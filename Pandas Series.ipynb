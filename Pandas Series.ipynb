{
 "cells": [
  {
   "cell_type": "code",
   "execution_count": 1,
   "id": "7872618e",
   "metadata": {},
   "outputs": [],
   "source": [
    "import pandas as pd\n",
    "import numpy as np"
   ]
  },
  {
   "cell_type": "markdown",
   "id": "efec0605",
   "metadata": {},
   "source": [
    "Consider population of 7 countries in millions"
   ]
  },
  {
   "cell_type": "code",
   "execution_count": 2,
   "id": "97d20a02",
   "metadata": {},
   "outputs": [],
   "source": [
    "g7_pop = pd.Series([35.4,25.6,741.24,88.6,22.6,70.7,43.7])"
   ]
  },
  {
   "cell_type": "code",
   "execution_count": 3,
   "id": "5465c929",
   "metadata": {},
   "outputs": [
    {
     "data": {
      "text/plain": [
       "0     35.40\n",
       "1     25.60\n",
       "2    741.24\n",
       "3     88.60\n",
       "4     22.60\n",
       "5     70.70\n",
       "6     43.70\n",
       "dtype: float64"
      ]
     },
     "execution_count": 3,
     "metadata": {},
     "output_type": "execute_result"
    }
   ],
   "source": [
    "g7_pop"
   ]
  },
  {
   "cell_type": "code",
   "execution_count": 4,
   "id": "26351181",
   "metadata": {},
   "outputs": [],
   "source": [
    "g7_pop.name='Population of 7 countries in millions'"
   ]
  },
  {
   "cell_type": "code",
   "execution_count": 5,
   "id": "72a9808b",
   "metadata": {},
   "outputs": [
    {
     "data": {
      "text/plain": [
       "0     35.40\n",
       "1     25.60\n",
       "2    741.24\n",
       "3     88.60\n",
       "4     22.60\n",
       "5     70.70\n",
       "6     43.70\n",
       "Name: Population of 7 countries in millions, dtype: float64"
      ]
     },
     "execution_count": 5,
     "metadata": {},
     "output_type": "execute_result"
    }
   ],
   "source": [
    "g7_pop\n",
    "\n",
    "#index "
   ]
  },
  {
   "cell_type": "code",
   "execution_count": 6,
   "id": "4d8ca60f",
   "metadata": {},
   "outputs": [
    {
     "data": {
      "text/plain": [
       "dtype('float64')"
      ]
     },
     "execution_count": 6,
     "metadata": {},
     "output_type": "execute_result"
    }
   ],
   "source": [
    "g7_pop.dtype"
   ]
  },
  {
   "cell_type": "code",
   "execution_count": 7,
   "id": "a374d34a",
   "metadata": {},
   "outputs": [
    {
     "data": {
      "text/plain": [
       "array([ 35.4 ,  25.6 , 741.24,  88.6 ,  22.6 ,  70.7 ,  43.7 ])"
      ]
     },
     "execution_count": 7,
     "metadata": {},
     "output_type": "execute_result"
    }
   ],
   "source": [
    "g7_pop.values\n",
    "#here we can see that it is stored just like a numpy array so we can perform\n",
    "#all numpy operations as it has an index"
   ]
  },
  {
   "cell_type": "code",
   "execution_count": 8,
   "id": "4889879d",
   "metadata": {},
   "outputs": [
    {
     "data": {
      "text/plain": [
       "88.6"
      ]
     },
     "execution_count": 8,
     "metadata": {},
     "output_type": "execute_result"
    }
   ],
   "source": [
    "g7_pop[3]"
   ]
  },
  {
   "cell_type": "markdown",
   "id": "84e94700",
   "metadata": {},
   "source": [
    "#### But unlike arrays we can change the indexes "
   ]
  },
  {
   "cell_type": "code",
   "execution_count": 9,
   "id": "c5ceeb6a",
   "metadata": {},
   "outputs": [],
   "source": [
    "g7_pop.index = [\n",
    "    \"Canada\",\"France\",\"India\",\"Japan\",\"USA\",\"Kazakistan\",\"Cuba\"\n",
    "]"
   ]
  },
  {
   "cell_type": "code",
   "execution_count": 10,
   "id": "f401b3d0",
   "metadata": {},
   "outputs": [
    {
     "data": {
      "text/plain": [
       "Canada         35.40\n",
       "France         25.60\n",
       "India         741.24\n",
       "Japan          88.60\n",
       "USA            22.60\n",
       "Kazakistan     70.70\n",
       "Cuba           43.70\n",
       "Name: Population of 7 countries in millions, dtype: float64"
      ]
     },
     "execution_count": 10,
     "metadata": {},
     "output_type": "execute_result"
    }
   ],
   "source": [
    "g7_pop"
   ]
  },
  {
   "cell_type": "markdown",
   "id": "33abf671",
   "metadata": {},
   "source": [
    "#### We can easily create series in one step by -"
   ]
  },
  {
   "cell_type": "code",
   "execution_count": 11,
   "id": "f4f86cce",
   "metadata": {},
   "outputs": [
    {
     "data": {
      "text/plain": [
       "Canada             35.467\n",
       "France             63.951\n",
       "Germany            80.940\n",
       "Italy              60.665\n",
       "Japan             127.061\n",
       "United Kingdom     64.511\n",
       "United States     318.523\n",
       "Name: G7 Population in millions, dtype: float64"
      ]
     },
     "execution_count": 11,
     "metadata": {},
     "output_type": "execute_result"
    }
   ],
   "source": [
    "pd.Series({\n",
    "    'Canada': 35.467,\n",
    "    'France': 63.951,\n",
    "    'Germany': 80.94,\n",
    "    'Italy': 60.665,\n",
    "    'Japan': 127.061,\n",
    "    'United Kingdom': 64.511,\n",
    "    'United States': 318.523\n",
    "}, name='G7 Population in millions')"
   ]
  },
  {
   "cell_type": "markdown",
   "id": "99b94fef",
   "metadata": {},
   "source": [
    "#### We can also query with the help of indexes (Indexing in Series)"
   ]
  },
  {
   "cell_type": "code",
   "execution_count": 12,
   "id": "9b4023b6",
   "metadata": {
    "scrolled": true
   },
   "outputs": [
    {
     "data": {
      "text/plain": [
       "USA       22.60\n",
       "India    741.24\n",
       "Cuba      43.70\n",
       "Name: Population of 7 countries in millions, dtype: float64"
      ]
     },
     "execution_count": 12,
     "metadata": {},
     "output_type": "execute_result"
    }
   ],
   "source": [
    "pd.Series(g7_pop,index=[\"USA\",\"India\",\"Cuba\"])"
   ]
  },
  {
   "cell_type": "code",
   "execution_count": 13,
   "id": "1c2d48a3",
   "metadata": {},
   "outputs": [
    {
     "data": {
      "text/plain": [
       "22.6"
      ]
     },
     "execution_count": 13,
     "metadata": {},
     "output_type": "execute_result"
    }
   ],
   "source": [
    "g7_pop[\"USA\"]"
   ]
  },
  {
   "cell_type": "code",
   "execution_count": 14,
   "id": "509e70b3",
   "metadata": {},
   "outputs": [
    {
     "data": {
      "text/plain": [
       "USA       22.60\n",
       "India    741.24\n",
       "Name: Population of 7 countries in millions, dtype: float64"
      ]
     },
     "execution_count": 14,
     "metadata": {},
     "output_type": "execute_result"
    }
   ],
   "source": [
    "g7_pop[[\"USA\",\"India\"]]"
   ]
  },
  {
   "cell_type": "markdown",
   "id": "38dde93d",
   "metadata": {},
   "source": [
    "We can still get values with the help of numeric indexes by -"
   ]
  },
  {
   "cell_type": "code",
   "execution_count": 15,
   "id": "f19b28c7",
   "metadata": {},
   "outputs": [
    {
     "data": {
      "text/plain": [
       "43.7"
      ]
     },
     "execution_count": 15,
     "metadata": {},
     "output_type": "execute_result"
    }
   ],
   "source": [
    "g7_pop.iloc[-1]"
   ]
  },
  {
   "cell_type": "code",
   "execution_count": 16,
   "id": "c4f1c221",
   "metadata": {},
   "outputs": [
    {
     "data": {
      "text/plain": [
       "741.24"
      ]
     },
     "execution_count": 16,
     "metadata": {},
     "output_type": "execute_result"
    }
   ],
   "source": [
    "g7_pop.iloc[2]"
   ]
  },
  {
   "cell_type": "markdown",
   "id": "09cbda38",
   "metadata": {},
   "source": [
    "#### Remember unlike numpy in pandas, upper limit and lower limit is also included"
   ]
  },
  {
   "cell_type": "code",
   "execution_count": 17,
   "id": "be2f4fa1",
   "metadata": {},
   "outputs": [
    {
     "data": {
      "text/plain": [
       "Canada     35.40\n",
       "France     25.60\n",
       "India     741.24\n",
       "Japan      88.60\n",
       "USA        22.60\n",
       "Name: Population of 7 countries in millions, dtype: float64"
      ]
     },
     "execution_count": 17,
     "metadata": {},
     "output_type": "execute_result"
    }
   ],
   "source": [
    "g7_pop['Canada': 'USA']"
   ]
  },
  {
   "cell_type": "markdown",
   "id": "a9315fc2",
   "metadata": {},
   "source": [
    "### Boolean Series"
   ]
  },
  {
   "cell_type": "code",
   "execution_count": 18,
   "id": "25f05ddf",
   "metadata": {},
   "outputs": [
    {
     "data": {
      "text/plain": [
       "Canada        False\n",
       "France        False\n",
       "India          True\n",
       "Japan          True\n",
       "USA           False\n",
       "Kazakistan     True\n",
       "Cuba          False\n",
       "Name: Population of 7 countries in millions, dtype: bool"
      ]
     },
     "execution_count": 18,
     "metadata": {},
     "output_type": "execute_result"
    }
   ],
   "source": [
    "g7_pop>70"
   ]
  },
  {
   "cell_type": "code",
   "execution_count": 19,
   "id": "d7032214",
   "metadata": {},
   "outputs": [
    {
     "data": {
      "text/plain": [
       "India         741.24\n",
       "Japan          88.60\n",
       "Kazakistan     70.70\n",
       "Name: Population of 7 countries in millions, dtype: float64"
      ]
     },
     "execution_count": 19,
     "metadata": {},
     "output_type": "execute_result"
    }
   ],
   "source": [
    "#or\n",
    "g7_pop[g7_pop>70]"
   ]
  },
  {
   "cell_type": "markdown",
   "id": "f2204801",
   "metadata": {},
   "source": [
    "### Arithematic operations"
   ]
  },
  {
   "cell_type": "code",
   "execution_count": 20,
   "id": "0e8fb5e6",
   "metadata": {},
   "outputs": [
    {
     "data": {
      "text/plain": [
       "Canada         35400000.0\n",
       "France         25600000.0\n",
       "India         741240000.0\n",
       "Japan          88600000.0\n",
       "USA            22600000.0\n",
       "Kazakistan     70700000.0\n",
       "Cuba           43700000.0\n",
       "Name: Population of 7 countries in millions, dtype: float64"
      ]
     },
     "execution_count": 20,
     "metadata": {},
     "output_type": "execute_result"
    }
   ],
   "source": [
    "g7_pop*1000000"
   ]
  },
  {
   "cell_type": "code",
   "execution_count": 21,
   "id": "ccf00020",
   "metadata": {},
   "outputs": [
    {
     "data": {
      "text/plain": [
       "146.83428571428573"
      ]
     },
     "execution_count": 21,
     "metadata": {},
     "output_type": "execute_result"
    }
   ],
   "source": [
    "g7_pop.mean()"
   ]
  },
  {
   "cell_type": "code",
   "execution_count": 22,
   "id": "a19323aa",
   "metadata": {},
   "outputs": [
    {
     "data": {
      "text/plain": [
       "69282.0008952381"
      ]
     },
     "execution_count": 22,
     "metadata": {},
     "output_type": "execute_result"
    }
   ],
   "source": [
    "g7_pop.var()"
   ]
  },
  {
   "cell_type": "markdown",
   "id": "af6bde29",
   "metadata": {},
   "source": [
    "#### Quering data"
   ]
  },
  {
   "cell_type": "code",
   "execution_count": 23,
   "id": "fc7fbb32",
   "metadata": {},
   "outputs": [
    {
     "data": {
      "text/plain": [
       "Canada         35.40\n",
       "France         25.60\n",
       "India         741.24\n",
       "Japan          88.60\n",
       "USA            22.60\n",
       "Kazakistan     70.70\n",
       "Cuba           43.70\n",
       "Name: Population of 7 countries in millions, dtype: float64"
      ]
     },
     "execution_count": 23,
     "metadata": {},
     "output_type": "execute_result"
    }
   ],
   "source": [
    "g7_pop[(g7_pop>30)|(g7_pop<100)]"
   ]
  },
  {
   "cell_type": "markdown",
   "id": "09ceaec6",
   "metadata": {},
   "source": [
    "#### Modifying Series"
   ]
  },
  {
   "cell_type": "code",
   "execution_count": 24,
   "id": "2097dac8",
   "metadata": {},
   "outputs": [],
   "source": [
    "g7_pop[\"Canada\"]=69.69"
   ]
  },
  {
   "cell_type": "code",
   "execution_count": 25,
   "id": "6147be49",
   "metadata": {},
   "outputs": [
    {
     "data": {
      "text/plain": [
       "69.69"
      ]
     },
     "execution_count": 25,
     "metadata": {},
     "output_type": "execute_result"
    }
   ],
   "source": [
    "g7_pop.iloc[0]"
   ]
  },
  {
   "cell_type": "code",
   "execution_count": 26,
   "id": "c6a097d6",
   "metadata": {},
   "outputs": [],
   "source": [
    "g7_pop.iloc[3]=69.69"
   ]
  },
  {
   "cell_type": "code",
   "execution_count": 27,
   "id": "0fad50ab",
   "metadata": {},
   "outputs": [
    {
     "data": {
      "text/plain": [
       "69.69"
      ]
     },
     "execution_count": 27,
     "metadata": {},
     "output_type": "execute_result"
    }
   ],
   "source": [
    "g7_pop.iloc[3]"
   ]
  },
  {
   "cell_type": "code",
   "execution_count": 28,
   "id": "371672d4",
   "metadata": {},
   "outputs": [],
   "source": [
    "X = pd.Series([-1,2,0,-4,5,6,0,0,-9,10])"
   ]
  },
  {
   "cell_type": "code",
   "execution_count": 29,
   "id": "9bba9dcc",
   "metadata": {},
   "outputs": [
    {
     "data": {
      "text/plain": [
       "True"
      ]
     },
     "execution_count": 29,
     "metadata": {},
     "output_type": "execute_result"
    }
   ],
   "source": [
    "X.any() #true when any of its element = 0"
   ]
  },
  {
   "cell_type": "code",
   "execution_count": 30,
   "id": "419bb05f",
   "metadata": {},
   "outputs": [
    {
     "data": {
      "text/plain": [
       "False"
      ]
     },
     "execution_count": 30,
     "metadata": {},
     "output_type": "execute_result"
    }
   ],
   "source": [
    "X.all() #true when none of its element = 0"
   ]
  },
  {
   "cell_type": "code",
   "execution_count": null,
   "id": "665bb959",
   "metadata": {},
   "outputs": [],
   "source": []
  }
 ],
 "metadata": {
  "kernelspec": {
   "display_name": "Python 3 (ipykernel)",
   "language": "python",
   "name": "python3"
  },
  "language_info": {
   "codemirror_mode": {
    "name": "ipython",
    "version": 3
   },
   "file_extension": ".py",
   "mimetype": "text/x-python",
   "name": "python",
   "nbconvert_exporter": "python",
   "pygments_lexer": "ipython3",
   "version": "3.9.12"
  }
 },
 "nbformat": 4,
 "nbformat_minor": 5
}
